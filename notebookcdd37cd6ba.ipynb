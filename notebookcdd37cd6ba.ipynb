{
 "cells": [
  {
   "cell_type": "markdown",
   "id": "22d2c92a",
   "metadata": {
    "papermill": {
     "duration": 0.003821,
     "end_time": "2025-04-06T23:24:10.720031",
     "exception": false,
     "start_time": "2025-04-06T23:24:10.716210",
     "status": "completed"
    },
    "tags": []
   },
   "source": [
    "# Análise EDA sobre crédito de clientes de um banco\n"
   ]
  },
  {
   "cell_type": "markdown",
   "id": "79d4addd",
   "metadata": {
    "papermill": {
     "duration": 0.003234,
     "end_time": "2025-04-06T23:24:10.727042",
     "exception": false,
     "start_time": "2025-04-06T23:24:10.723808",
     "status": "completed"
    },
    "tags": []
   },
   "source": [
    "## Exploração e análise de dados de crédito com SQL"
   ]
  },
  {
   "cell_type": "markdown",
   "id": "cf43570c",
   "metadata": {
    "papermill": {
     "duration": 0.003008,
     "end_time": "2025-04-06T23:24:10.733432",
     "exception": false,
     "start_time": "2025-04-06T23:24:10.730424",
     "status": "completed"
    },
    "tags": []
   },
   "source": [
    "Conhecendo os dados disponibilizados para análise\n",
    "\n",
    "Os dados dos clientes desse banco foram diponibilizados em uma tabela contendo as seguintes colunas:\n",
    "\n",
    "- idade = idade do cliente\n",
    "- sexo = sexo do cliente (F ou M)\n",
    "- dependentes = número de dependentes do cliente\n",
    "- escolaridade = nível de escolaridade do clientes\n",
    "- salario_anual = faixa salarial do cliente\n",
    "- tipo_cartao = tipo de cartao do cliente\n",
    "- qtd_produtos = quantidade de produtos comprados nos últimos 12 meses\n",
    "- iteracoes_12m = quantidade de iterações/transacoes nos ultimos 12 meses\n",
    "- meses_inativo_12m = quantidade de meses que o cliente ficou inativo\n",
    "- limite_credito = limite de credito do cliente\n",
    "- valor_transacoes_12m = valor das transações dos ultimos 12 meses\n",
    "- qtd_transacoes_12m = quantidade de transacoes dos ultimos 12 meses\n",
    "\n",
    "Essa análise foi feita utilizando as ferramentas AWS Athenas e o Buckets S3."
   ]
  },
  {
   "cell_type": "markdown",
   "id": "117c3959",
   "metadata": {
    "papermill": {
     "duration": 0.003065,
     "end_time": "2025-04-06T23:24:10.739863",
     "exception": false,
     "start_time": "2025-04-06T23:24:10.736798",
     "status": "completed"
    },
    "tags": []
   },
   "source": [
    "## Exploração dos dados"
   ]
  },
  {
   "cell_type": "markdown",
   "id": "98fc9f7b",
   "metadata": {
    "execution": {
     "iopub.execute_input": "2025-04-06T19:49:03.201703Z",
     "iopub.status.busy": "2025-04-06T19:49:03.201308Z",
     "iopub.status.idle": "2025-04-06T19:49:03.209794Z",
     "shell.execute_reply": "2025-04-06T19:49:03.208086Z",
     "shell.execute_reply.started": "2025-04-06T19:49:03.201668Z"
    },
    "papermill": {
     "duration": 0.003111,
     "end_time": "2025-04-06T23:24:10.746312",
     "exception": false,
     "start_time": "2025-04-06T23:24:10.743201",
     "status": "completed"
    },
    "tags": []
   },
   "source": [
    "Começamos a nossa exploração entendendo como a tabela está disposta\n",
    "> select * from credito limit 10;\n",
    "\n",
    "![](https://private-user-images.githubusercontent.com/162516815/430734672-aea1bd5f-70d9-4175-8f25-578e166a3069.png?jwt=eyJhbGciOiJIUzI1NiIsInR5cCI6IkpXVCJ9.eyJpc3MiOiJnaXRodWIuY29tIiwiYXVkIjoicmF3LmdpdGh1YnVzZXJjb250ZW50LmNvbSIsImtleSI6ImtleTUiLCJleHAiOjE3NDM5Njk3ODksIm5iZiI6MTc0Mzk2OTQ4OSwicGF0aCI6Ii8xNjI1MTY4MTUvNDMwNzM0NjcyLWFlYTFiZDVmLTcwZDktNDE3NS04ZjI1LTU3OGUxNjZhMzA2OS5wbmc_WC1BbXotQWxnb3JpdGhtPUFXUzQtSE1BQy1TSEEyNTYmWC1BbXotQ3JlZGVudGlhbD1BS0lBVkNPRFlMU0E1M1BRSzRaQSUyRjIwMjUwNDA2JTJGdXMtZWFzdC0xJTJGczMlMkZhd3M0X3JlcXVlc3QmWC1BbXotRGF0ZT0yMDI1MDQwNlQxOTU4MDlaJlgtQW16LUV4cGlyZXM9MzAwJlgtQW16LVNpZ25hdHVyZT05N2UwOWVjZTdjOTBhNmEzMDBmMzhiZThiMjZhODM0ZThjYWZhNDhhODk0MDliOTZiNWQ3YWYxMDE5YjQwNDhmJlgtQW16LVNpZ25lZEhlYWRlcnM9aG9zdCJ9.GWM0djXVDqri4B8VSIrj0_CgcLKhoDcG7h3EkoZ8PKg)"
   ]
  },
  {
   "cell_type": "markdown",
   "id": "06fc0f9f",
   "metadata": {
    "papermill": {
     "duration": 0.003006,
     "end_time": "2025-04-06T23:24:10.752505",
     "exception": false,
     "start_time": "2025-04-06T23:24:10.749499",
     "status": "completed"
    },
    "tags": []
   },
   "source": [
    "Conferimos o número total de linhas contendo informações na tabela\n",
    "> select count(*) as num_total_de_linhas from credito\n",
    "\n",
    "![](https://private-user-images.githubusercontent.com/162516815/430735430-5e5d6d93-1009-4073-b343-d60098b83ce7.png?jwt=eyJhbGciOiJIUzI1NiIsInR5cCI6IkpXVCJ9.eyJpc3MiOiJnaXRodWIuY29tIiwiYXVkIjoicmF3LmdpdGh1YnVzZXJjb250ZW50LmNvbSIsImtleSI6ImtleTUiLCJleHAiOjE3NDM5NzAxODcsIm5iZiI6MTc0Mzk2OTg4NywicGF0aCI6Ii8xNjI1MTY4MTUvNDMwNzM1NDMwLTVlNWQ2ZDkzLTEwMDktNDA3My1iMzQzLWQ2MDA5OGI4M2NlNy5wbmc_WC1BbXotQWxnb3JpdGhtPUFXUzQtSE1BQy1TSEEyNTYmWC1BbXotQ3JlZGVudGlhbD1BS0lBVkNPRFlMU0E1M1BRSzRaQSUyRjIwMjUwNDA2JTJGdXMtZWFzdC0xJTJGczMlMkZhd3M0X3JlcXVlc3QmWC1BbXotRGF0ZT0yMDI1MDQwNlQyMDA0NDdaJlgtQW16LUV4cGlyZXM9MzAwJlgtQW16LVNpZ25hdHVyZT03N2RiMGM4NDU1Y2NmYzZiYmU1OTVlYjIzYmI3NWIxNWVlYzk4ZjVhOGIxMWZhZDlhM2E5ODI0ZTlhNDMwYjczJlgtQW16LVNpZ25lZEhlYWRlcnM9aG9zdCJ9.eyc_bQ1ff7xWmosufHcvrzZJst8llD4ZdSxEWpbvAW4)"
   ]
  },
  {
   "cell_type": "markdown",
   "id": "d97b4338",
   "metadata": {
    "papermill": {
     "duration": 0.003023,
     "end_time": "2025-04-06T23:24:10.758775",
     "exception": false,
     "start_time": "2025-04-06T23:24:10.755752",
     "status": "completed"
    },
    "tags": []
   },
   "source": [
    "O próximo passo foi conferir o tipo de informação que cada coluna abriga\n",
    "> DESCRIBE credito\n",
    "\n",
    "![](https://private-user-images.githubusercontent.com/162516815/430735621-c38d73d5-19a9-4a9e-8365-2d215f7e2fb4.png?jwt=eyJhbGciOiJIUzI1NiIsInR5cCI6IkpXVCJ9.eyJpc3MiOiJnaXRodWIuY29tIiwiYXVkIjoicmF3LmdpdGh1YnVzZXJjb250ZW50LmNvbSIsImtleSI6ImtleTUiLCJleHAiOjE3NDM5NzAzMjAsIm5iZiI6MTc0Mzk3MDAyMCwicGF0aCI6Ii8xNjI1MTY4MTUvNDMwNzM1NjIxLWMzOGQ3M2Q1LTE5YTktNGE5ZS04MzY1LTJkMjE1ZjdlMmZiNC5wbmc_WC1BbXotQWxnb3JpdGhtPUFXUzQtSE1BQy1TSEEyNTYmWC1BbXotQ3JlZGVudGlhbD1BS0lBVkNPRFlMU0E1M1BRSzRaQSUyRjIwMjUwNDA2JTJGdXMtZWFzdC0xJTJGczMlMkZhd3M0X3JlcXVlc3QmWC1BbXotRGF0ZT0yMDI1MDQwNlQyMDA3MDBaJlgtQW16LUV4cGlyZXM9MzAwJlgtQW16LVNpZ25hdHVyZT00ZmJkYTAyNWYzYzE3ZmI5ZTNiYzRjNTM4MDNlMGQ1YjA2OTI0OGYzZmMzZjIwNjhhMzFkZjlkODU5ZWU4YjFkJlgtQW16LVNpZ25lZEhlYWRlcnM9aG9zdCJ9._Uq2qEglzugzZwwIQWeyQVKyG0ycepgRpCa4sFSYpKY)\n",
    "\n"
   ]
  },
  {
   "cell_type": "markdown",
   "id": "49e341f3",
   "metadata": {
    "papermill": {
     "duration": 0.003238,
     "end_time": "2025-04-06T23:24:10.765954",
     "exception": false,
     "start_time": "2025-04-06T23:24:10.762716",
     "status": "completed"
    },
    "tags": []
   },
   "source": [
    "Com essa primeira análise concluida, podemos começar a analisar as caracteristicas dos clientes desse banco\n",
    "\n",
    "Qual a relação percentual entre homens e mulheres?\n",
    "> select count(*) as num_de_clientes, sexo from credito group by sexo\n",
    "\n",
    "![](https://private-user-images.githubusercontent.com/162516815/430735438-91ca9424-e64e-4d53-a233-b648bbc009ec.png?jwt=eyJhbGciOiJIUzI1NiIsInR5cCI6IkpXVCJ9.eyJpc3MiOiJnaXRodWIuY29tIiwiYXVkIjoicmF3LmdpdGh1YnVzZXJjb250ZW50LmNvbSIsImtleSI6ImtleTUiLCJleHAiOjE3NDM5NzA3MzMsIm5iZiI6MTc0Mzk3MDQzMywicGF0aCI6Ii8xNjI1MTY4MTUvNDMwNzM1NDM4LTkxY2E5NDI0LWU2NGUtNGQ1My1hMjMzLWI2NDhiYmMwMDllYy5wbmc_WC1BbXotQWxnb3JpdGhtPUFXUzQtSE1BQy1TSEEyNTYmWC1BbXotQ3JlZGVudGlhbD1BS0lBVkNPRFlMU0E1M1BRSzRaQSUyRjIwMjUwNDA2JTJGdXMtZWFzdC0xJTJGczMlMkZhd3M0X3JlcXVlc3QmWC1BbXotRGF0ZT0yMDI1MDQwNlQyMDEzNTNaJlgtQW16LUV4cGlyZXM9MzAwJlgtQW16LVNpZ25hdHVyZT1jNjgxM2ExOTRlZmFhODBmZTc2YWVhYWIwYTI5OWM1ZmQ5NzAwMTU1MWY4MjNkYWUwOTRlZGYyNDgxYjQwMzU4JlgtQW16LVNpZ25lZEhlYWRlcnM9aG9zdCJ9.XQw746NqXoMAKtn3ju5fq9IXlf7xYDewG7BcE7bPcB8)\n",
    "\n",
    "![](https://private-user-images.githubusercontent.com/162516815/430736860-d8d21bb0-5afe-43ca-8129-5fa6655902a7.png?jwt=eyJhbGciOiJIUzI1NiIsInR5cCI6IkpXVCJ9.eyJpc3MiOiJnaXRodWIuY29tIiwiYXVkIjoicmF3LmdpdGh1YnVzZXJjb250ZW50LmNvbSIsImtleSI6ImtleTUiLCJleHAiOjE3NDM5NzE1MTksIm5iZiI6MTc0Mzk3MTIxOSwicGF0aCI6Ii8xNjI1MTY4MTUvNDMwNzM2ODYwLWQ4ZDIxYmIwLTVhZmUtNDNjYS04MTI5LTVmYTY2NTU5MDJhNy5wbmc_WC1BbXotQWxnb3JpdGhtPUFXUzQtSE1BQy1TSEEyNTYmWC1BbXotQ3JlZGVudGlhbD1BS0lBVkNPRFlMU0E1M1BRSzRaQSUyRjIwMjUwNDA2JTJGdXMtZWFzdC0xJTJGczMlMkZhd3M0X3JlcXVlc3QmWC1BbXotRGF0ZT0yMDI1MDQwNlQyMDI2NTlaJlgtQW16LUV4cGlyZXM9MzAwJlgtQW16LVNpZ25hdHVyZT1mNGM0Y2Q1Y2M5MzdhOWJiOWU3ODFjYjVjZTI3NTM3OTQ0MzI3NTkzNzczMThkMGFmYjkxZDEwZThiMDVjN2Y5JlgtQW16LVNpZ25lZEhlYWRlcnM9aG9zdCJ9.03E69dJHGWu86ZltKCmsH54g3ujAV6ZN9dkvCKYkL8Q)"
   ]
  },
  {
   "cell_type": "markdown",
   "id": "975fc9c0",
   "metadata": {
    "papermill": {
     "duration": 0.003112,
     "end_time": "2025-04-06T23:24:10.772399",
     "exception": false,
     "start_time": "2025-04-06T23:24:10.769287",
     "status": "completed"
    },
    "tags": []
   },
   "source": [
    "Qual o nível escolar dos clientes?\n",
    "> SELECT DISTINCT count (*) as qntd, escolaridade FROM credito group by escolaridade\n",
    "\n",
    "![](https://private-user-images.githubusercontent.com/162516815/430737699-1e1670ad-3c1f-4031-b9b2-288755b1c0d5.png?jwt=eyJhbGciOiJIUzI1NiIsInR5cCI6IkpXVCJ9.eyJpc3MiOiJnaXRodWIuY29tIiwiYXVkIjoicmF3LmdpdGh1YnVzZXJjb250ZW50LmNvbSIsImtleSI6ImtleTUiLCJleHAiOjE3NDM5NzI0MDUsIm5iZiI6MTc0Mzk3MjEwNSwicGF0aCI6Ii8xNjI1MTY4MTUvNDMwNzM3Njk5LTFlMTY3MGFkLTNjMWYtNDAzMS1iOWIyLTI4ODc1NWIxYzBkNS5wbmc_WC1BbXotQWxnb3JpdGhtPUFXUzQtSE1BQy1TSEEyNTYmWC1BbXotQ3JlZGVudGlhbD1BS0lBVkNPRFlMU0E1M1BRSzRaQSUyRjIwMjUwNDA2JTJGdXMtZWFzdC0xJTJGczMlMkZhd3M0X3JlcXVlc3QmWC1BbXotRGF0ZT0yMDI1MDQwNlQyMDQxNDVaJlgtQW16LUV4cGlyZXM9MzAwJlgtQW16LVNpZ25hdHVyZT0zYmQwNDU1YzM0NzIzNWNmNGM2M2RmZjgwZGQ3MDRjMWE3MzViZmRkNDEzZjVmZWYzNDRmMDAxOWU0ZjVmZWY4JlgtQW16LVNpZ25lZEhlYWRlcnM9aG9zdCJ9.twq4mBiKchnLscu7pD2yCbyuuLoY0TL2dR1W3kr9Okk)\n",
    "\n",
    "![](https://private-user-images.githubusercontent.com/162516815/430737696-7d5ec6d6-be78-490d-9a69-08fccb5aab99.png?jwt=eyJhbGciOiJIUzI1NiIsInR5cCI6IkpXVCJ9.eyJpc3MiOiJnaXRodWIuY29tIiwiYXVkIjoicmF3LmdpdGh1YnVzZXJjb250ZW50LmNvbSIsImtleSI6ImtleTUiLCJleHAiOjE3NDM5NzI0MDUsIm5iZiI6MTc0Mzk3MjEwNSwicGF0aCI6Ii8xNjI1MTY4MTUvNDMwNzM3Njk2LTdkNWVjNmQ2LWJlNzgtNDkwZC05YTY5LTA4ZmNjYjVhYWI5OS5wbmc_WC1BbXotQWxnb3JpdGhtPUFXUzQtSE1BQy1TSEEyNTYmWC1BbXotQ3JlZGVudGlhbD1BS0lBVkNPRFlMU0E1M1BRSzRaQSUyRjIwMjUwNDA2JTJGdXMtZWFzdC0xJTJGczMlMkZhd3M0X3JlcXVlc3QmWC1BbXotRGF0ZT0yMDI1MDQwNlQyMDQxNDVaJlgtQW16LUV4cGlyZXM9MzAwJlgtQW16LVNpZ25hdHVyZT05MzU3YmRlMWRhOGFkMGIzNzZjY2JkZWUzMmI1MjU2YTg0OWYxZDM0MWVlN2JkYmVhZmI3NDQ4ZmM0NDZlNWE5JlgtQW16LVNpZ25lZEhlYWRlcnM9aG9zdCJ9.RSA14pQtYTEGVmqEGWMu3y8HVnSPXeO5RbaU2C1vMgA)"
   ]
  },
  {
   "cell_type": "markdown",
   "id": "649323d7",
   "metadata": {
    "papermill": {
     "duration": 0.003029,
     "end_time": "2025-04-06T23:24:10.778763",
     "exception": false,
     "start_time": "2025-04-06T23:24:10.775734",
     "status": "completed"
    },
    "tags": []
   },
   "source": [
    "Qual o estado civil dos clientes?\n",
    "> SELECT DISTINCT count (*) as qntd, estado_civil FROM credito group by estado_civil\n",
    "\n",
    "![](https://private-user-images.githubusercontent.com/162516815/430738647-6a0adae0-63c8-40ee-a052-76f2303b494d.png?jwt=eyJhbGciOiJIUzI1NiIsInR5cCI6IkpXVCJ9.eyJpc3MiOiJnaXRodWIuY29tIiwiYXVkIjoicmF3LmdpdGh1YnVzZXJjb250ZW50LmNvbSIsImtleSI6ImtleTUiLCJleHAiOjE3NDM5NzI5MzksIm5iZiI6MTc0Mzk3MjYzOSwicGF0aCI6Ii8xNjI1MTY4MTUvNDMwNzM4NjQ3LTZhMGFkYWUwLTYzYzgtNDBlZS1hMDUyLTc2ZjIzMDNiNDk0ZC5wbmc_WC1BbXotQWxnb3JpdGhtPUFXUzQtSE1BQy1TSEEyNTYmWC1BbXotQ3JlZGVudGlhbD1BS0lBVkNPRFlMU0E1M1BRSzRaQSUyRjIwMjUwNDA2JTJGdXMtZWFzdC0xJTJGczMlMkZhd3M0X3JlcXVlc3QmWC1BbXotRGF0ZT0yMDI1MDQwNlQyMDUwMzlaJlgtQW16LUV4cGlyZXM9MzAwJlgtQW16LVNpZ25hdHVyZT05OWVhMzQ1M2EyMmQwNTY4NjIxZmFmNjhiYjU2ZjZlYTJiMjhhMmM1YjU1YTFlMGU5Mjc4MjA5N2JkYmExY2E4JlgtQW16LVNpZ25lZEhlYWRlcnM9aG9zdCJ9.NvHuzULV26XM8OHXILcBH91fdRJDFTxceET9jVgf_eY)\n",
    "\n",
    "![](https://private-user-images.githubusercontent.com/162516815/430738645-b988c51a-37cf-4081-b2f2-e3c47bc77640.png?jwt=eyJhbGciOiJIUzI1NiIsInR5cCI6IkpXVCJ9.eyJpc3MiOiJnaXRodWIuY29tIiwiYXVkIjoicmF3LmdpdGh1YnVzZXJjb250ZW50LmNvbSIsImtleSI6ImtleTUiLCJleHAiOjE3NDM5NzI5MzksIm5iZiI6MTc0Mzk3MjYzOSwicGF0aCI6Ii8xNjI1MTY4MTUvNDMwNzM4NjQ1LWI5ODhjNTFhLTM3Y2YtNDA4MS1iMmYyLWUzYzQ3YmM3NzY0MC5wbmc_WC1BbXotQWxnb3JpdGhtPUFXUzQtSE1BQy1TSEEyNTYmWC1BbXotQ3JlZGVudGlhbD1BS0lBVkNPRFlMU0E1M1BRSzRaQSUyRjIwMjUwNDA2JTJGdXMtZWFzdC0xJTJGczMlMkZhd3M0X3JlcXVlc3QmWC1BbXotRGF0ZT0yMDI1MDQwNlQyMDUwMzlaJlgtQW16LUV4cGlyZXM9MzAwJlgtQW16LVNpZ25hdHVyZT1hNGVlYmFlNTAwYjJkZjZhNGFmNTJiNjFjZGI2ZmY2NzMyMjI4MWYxNzMzMzMxMjYyODIzZGQ0MmQ3YWJmZDYwJlgtQW16LVNpZ25lZEhlYWRlcnM9aG9zdCJ9.eObmZcxZPO8yobg900oq0zujpErK83T_qQA-RvM_N9A)"
   ]
  },
  {
   "cell_type": "markdown",
   "id": "b4bd946f",
   "metadata": {
    "papermill": {
     "duration": 0.002944,
     "end_time": "2025-04-06T23:24:10.784926",
     "exception": false,
     "start_time": "2025-04-06T23:24:10.781982",
     "status": "completed"
    },
    "tags": []
   },
   "source": [
    "Qual a faixa de salário anual dos clientes?\n",
    "> SELECT DISTINCT count (*) as qntd, salario_anual FROM credito group by salario_anual\n",
    "\n",
    "![](https://private-user-images.githubusercontent.com/162516815/430739592-8e4d3fc6-ef5c-440f-b565-ef2c1fb9ddaa.png?jwt=eyJhbGciOiJIUzI1NiIsInR5cCI6IkpXVCJ9.eyJpc3MiOiJnaXRodWIuY29tIiwiYXVkIjoicmF3LmdpdGh1YnVzZXJjb250ZW50LmNvbSIsImtleSI6ImtleTUiLCJleHAiOjE3NDM5NzM1ODksIm5iZiI6MTc0Mzk3MzI4OSwicGF0aCI6Ii8xNjI1MTY4MTUvNDMwNzM5NTkyLThlNGQzZmM2LWVmNWMtNDQwZi1iNTY1LWVmMmMxZmI5ZGRhYS5wbmc_WC1BbXotQWxnb3JpdGhtPUFXUzQtSE1BQy1TSEEyNTYmWC1BbXotQ3JlZGVudGlhbD1BS0lBVkNPRFlMU0E1M1BRSzRaQSUyRjIwMjUwNDA2JTJGdXMtZWFzdC0xJTJGczMlMkZhd3M0X3JlcXVlc3QmWC1BbXotRGF0ZT0yMDI1MDQwNlQyMTAxMjlaJlgtQW16LUV4cGlyZXM9MzAwJlgtQW16LVNpZ25hdHVyZT1hMTg3NTdiZDE5NTM3ZDk2MDFhYmYxMDViYzk1NWE5YjkzZjU2NzY0YWEwZjc4M2RkZDYwM2YxZjVkNzIxNTAzJlgtQW16LVNpZ25lZEhlYWRlcnM9aG9zdCJ9.4iLBiKSPVlfbRznuhOthw92gCjtPkeAaDZHObfQX0QM)\n",
    "\n",
    "![](https://private-user-images.githubusercontent.com/162516815/430739581-d59aeea6-1ca8-4d32-9c37-13461bf25754.png?jwt=eyJhbGciOiJIUzI1NiIsInR5cCI6IkpXVCJ9.eyJpc3MiOiJnaXRodWIuY29tIiwiYXVkIjoicmF3LmdpdGh1YnVzZXJjb250ZW50LmNvbSIsImtleSI6ImtleTUiLCJleHAiOjE3NDM5NzM1ODksIm5iZiI6MTc0Mzk3MzI4OSwicGF0aCI6Ii8xNjI1MTY4MTUvNDMwNzM5NTgxLWQ1OWFlZWE2LTFjYTgtNGQzMi05YzM3LTEzNDYxYmYyNTc1NC5wbmc_WC1BbXotQWxnb3JpdGhtPUFXUzQtSE1BQy1TSEEyNTYmWC1BbXotQ3JlZGVudGlhbD1BS0lBVkNPRFlMU0E1M1BRSzRaQSUyRjIwMjUwNDA2JTJGdXMtZWFzdC0xJTJGczMlMkZhd3M0X3JlcXVlc3QmWC1BbXotRGF0ZT0yMDI1MDQwNlQyMTAxMjlaJlgtQW16LUV4cGlyZXM9MzAwJlgtQW16LVNpZ25hdHVyZT0xMDI0OWRiMjg4ZDFmZDdkMzY4ODdjMmY4YmNiYTRjYzk5Yjk2YjkzNGQyZTRjYmU3NDM5YTk1MTQ4NWZkMzhmJlgtQW16LVNpZ25lZEhlYWRlcnM9aG9zdCJ9.Wni92zWo2lTlcUrRUw-9SQ28NsZdjJNVD6VWvwZT-eY)"
   ]
  },
  {
   "cell_type": "markdown",
   "id": "c9ae0077",
   "metadata": {
    "papermill": {
     "duration": 0.002913,
     "end_time": "2025-04-06T23:24:10.790979",
     "exception": false,
     "start_time": "2025-04-06T23:24:10.788066",
     "status": "completed"
    },
    "tags": []
   },
   "source": [
    "Qual os tipos de cartão os clientes utilizam?\n",
    "> SELECT DISTINCT count (*) as qntd, tipo_cartao FROM credito group by tipo_cartao\n",
    "\n",
    "![](https://private-user-images.githubusercontent.com/162516815/430740549-2cfa813f-bfd9-4350-b3ae-1a7068927c93.png?jwt=eyJhbGciOiJIUzI1NiIsInR5cCI6IkpXVCJ9.eyJpc3MiOiJnaXRodWIuY29tIiwiYXVkIjoicmF3LmdpdGh1YnVzZXJjb250ZW50LmNvbSIsImtleSI6ImtleTUiLCJleHAiOjE3NDM5NzQ1NzUsIm5iZiI6MTc0Mzk3NDI3NSwicGF0aCI6Ii8xNjI1MTY4MTUvNDMwNzQwNTQ5LTJjZmE4MTNmLWJmZDktNDM1MC1iM2FlLTFhNzA2ODkyN2M5My5wbmc_WC1BbXotQWxnb3JpdGhtPUFXUzQtSE1BQy1TSEEyNTYmWC1BbXotQ3JlZGVudGlhbD1BS0lBVkNPRFlMU0E1M1BRSzRaQSUyRjIwMjUwNDA2JTJGdXMtZWFzdC0xJTJGczMlMkZhd3M0X3JlcXVlc3QmWC1BbXotRGF0ZT0yMDI1MDQwNlQyMTE3NTVaJlgtQW16LUV4cGlyZXM9MzAwJlgtQW16LVNpZ25hdHVyZT1jNjhhMDRjOGJhYTY2ZWNiZmYyNGJmYmQ0OTkxMWJjNmMyYzE3YWY3YmI0NzE4ZWM2M2ExNTAzMjIyMGMxYTU0JlgtQW16LVNpZ25lZEhlYWRlcnM9aG9zdCJ9.IiYz0UOdIyrPykWJwnvE3VsdrdCDKeQv8EoZjYTa8ZA)\n",
    "\n",
    "![](https://private-user-images.githubusercontent.com/162516815/430740519-46e75b9a-721c-4d46-a307-1ab529da31ec.png?jwt=eyJhbGciOiJIUzI1NiIsInR5cCI6IkpXVCJ9.eyJpc3MiOiJnaXRodWIuY29tIiwiYXVkIjoicmF3LmdpdGh1YnVzZXJjb250ZW50LmNvbSIsImtleSI6ImtleTUiLCJleHAiOjE3NDM5NzQ1NzUsIm5iZiI6MTc0Mzk3NDI3NSwicGF0aCI6Ii8xNjI1MTY4MTUvNDMwNzQwNTE5LTQ2ZTc1YjlhLTcyMWMtNGQ0Ni1hMzA3LTFhYjUyOWRhMzFlYy5wbmc_WC1BbXotQWxnb3JpdGhtPUFXUzQtSE1BQy1TSEEyNTYmWC1BbXotQ3JlZGVudGlhbD1BS0lBVkNPRFlMU0E1M1BRSzRaQSUyRjIwMjUwNDA2JTJGdXMtZWFzdC0xJTJGczMlMkZhd3M0X3JlcXVlc3QmWC1BbXotRGF0ZT0yMDI1MDQwNlQyMTE3NTVaJlgtQW16LUV4cGlyZXM9MzAwJlgtQW16LVNpZ25hdHVyZT0zZWJmNDAzYzIyMmVmYTk5ZDNiZTU2NDczMTM1YWFlOGMxNWVlMGQ3YzI0YzNhMTBlY2MxZjJmM2I0OGU1YmQ4JlgtQW16LVNpZ25lZEhlYWRlcnM9aG9zdCJ9.Ex1J9UmiVJN0_qCTMSvHRAfVViDQ8rlQzrfXC-AUPkc)"
   ]
  },
  {
   "cell_type": "markdown",
   "id": "f2188a30",
   "metadata": {
    "papermill": {
     "duration": 0.002806,
     "end_time": "2025-04-06T23:24:10.796866",
     "exception": false,
     "start_time": "2025-04-06T23:24:10.794060",
     "status": "completed"
    },
    "tags": []
   },
   "source": [
    "Qual a idade dos clientes?\n",
    "> SELECT avg(idade) as Media_idade, max(idade) as Max_idade,min(idade) as Min_idade,sexo FROM credito group by sexo\n",
    "\n",
    "![](https://private-user-images.githubusercontent.com/162516815/430741053-202327e5-ee80-49a8-9b8d-7503b1cd932e.png?jwt=eyJhbGciOiJIUzI1NiIsInR5cCI6IkpXVCJ9.eyJpc3MiOiJnaXRodWIuY29tIiwiYXVkIjoicmF3LmdpdGh1YnVzZXJjb250ZW50LmNvbSIsImtleSI6ImtleTUiLCJleHAiOjE3NDM5NzUwNzQsIm5iZiI6MTc0Mzk3NDc3NCwicGF0aCI6Ii8xNjI1MTY4MTUvNDMwNzQxMDUzLTIwMjMyN2U1LWVlODAtNDlhOC05YjhkLTc1MDNiMWNkOTMyZS5wbmc_WC1BbXotQWxnb3JpdGhtPUFXUzQtSE1BQy1TSEEyNTYmWC1BbXotQ3JlZGVudGlhbD1BS0lBVkNPRFlMU0E1M1BRSzRaQSUyRjIwMjUwNDA2JTJGdXMtZWFzdC0xJTJGczMlMkZhd3M0X3JlcXVlc3QmWC1BbXotRGF0ZT0yMDI1MDQwNlQyMTI2MTRaJlgtQW16LUV4cGlyZXM9MzAwJlgtQW16LVNpZ25hdHVyZT05MmQ5ZjFlNzFjNWNjY2VjYTE1YTQ1MWJkNjhlNDZmYTYzZWJhNTQyODM3ODNmODY3ZjQ4YjZlMTMwMjFmM2E4JlgtQW16LVNpZ25lZEhlYWRlcnM9aG9zdCJ9.hkHZndifwOdmhM38hoqGeoFgGzMW8BqFNHVoM42rne0)"
   ]
  },
  {
   "cell_type": "markdown",
   "id": "2c4ad916",
   "metadata": {
    "papermill": {
     "duration": 0.003101,
     "end_time": "2025-04-06T23:24:10.803265",
     "exception": false,
     "start_time": "2025-04-06T23:24:10.800164",
     "status": "completed"
    },
    "tags": []
   },
   "source": [
    "Qual a relação entre quantidade de produtos contratados com o salário anual?\n",
    "> SELECT distinct (salario_anual) as salario_anual, avg(limite_credito) as media_limite_credito, avg(qtd_produtos)as media_qntd_produtos FROM credito group by salario_anual\n",
    "\n",
    "![](https://private-user-images.githubusercontent.com/162516815/430745944-8f5b1484-7251-42aa-8e4b-74edd644a55f.png?jwt=eyJhbGciOiJIUzI1NiIsInR5cCI6IkpXVCJ9.eyJpc3MiOiJnaXRodWIuY29tIiwiYXVkIjoicmF3LmdpdGh1YnVzZXJjb250ZW50LmNvbSIsImtleSI6ImtleTUiLCJleHAiOjE3NDM5ODAzNzIsIm5iZiI6MTc0Mzk4MDA3MiwicGF0aCI6Ii8xNjI1MTY4MTUvNDMwNzQ1OTQ0LThmNWIxNDg0LTcyNTEtNDJhYS04ZTRiLTc0ZWRkNjQ0YTU1Zi5wbmc_WC1BbXotQWxnb3JpdGhtPUFXUzQtSE1BQy1TSEEyNTYmWC1BbXotQ3JlZGVudGlhbD1BS0lBVkNPRFlMU0E1M1BRSzRaQSUyRjIwMjUwNDA2JTJGdXMtZWFzdC0xJTJGczMlMkZhd3M0X3JlcXVlc3QmWC1BbXotRGF0ZT0yMDI1MDQwNlQyMjU0MzJaJlgtQW16LUV4cGlyZXM9MzAwJlgtQW16LVNpZ25hdHVyZT1mZTAxN2E5MjZmNjQ0OGNlZjZhYmYwZmY5YTc3MTk3MjZmMzc1ZmU2ZmVmZDkyY2Q1ZDZiMTA1ZGU4ODBiMGMxJlgtQW16LVNpZ25lZEhlYWRlcnM9aG9zdCJ9.XZJfho48f6hO7Iamk3N-eR5STAsSUx9IQHIUHf-QZls/)"
   ]
  },
  {
   "cell_type": "markdown",
   "id": "4a4958d4",
   "metadata": {
    "papermill": {
     "duration": 0.002844,
     "end_time": "2025-04-06T23:24:10.809324",
     "exception": false,
     "start_time": "2025-04-06T23:24:10.806480",
     "status": "completed"
    },
    "tags": []
   },
   "source": [
    "## Conclusão\n",
    "\n",
    "Analisando os dados acima apresentados, podemos perceber algumas caracteristicas importantes dos clientes do banco\n",
    " - A maior quantidade de correntistas desse banco são do sexo masculino\n",
    " - A escolaridade não se torna um elemento relevante para análise de crédito\n",
    " - A grande maioria dos correntistas são casados\n",
    " - A idade dos correntistas giram em torno dos 26 anos até 73 anos\n",
    " - A média de produtos contratados não tem haver com o salário anual do correntista\n",
    " - O limite de crédito está diretamente relacionado ao valor do salário anual\n",
    "\n",
    "Existem alguns pontos que merecem ser melhores estudados para oferecer serviços e oportunidades melhores para os correntistas, como exemplo, os serviços contratados entre outros"
   ]
  },
  {
   "cell_type": "code",
   "execution_count": null,
   "id": "f9bd409e",
   "metadata": {
    "papermill": {
     "duration": 0.003083,
     "end_time": "2025-04-06T23:24:10.815917",
     "exception": false,
     "start_time": "2025-04-06T23:24:10.812834",
     "status": "completed"
    },
    "tags": []
   },
   "outputs": [],
   "source": []
  }
 ],
 "metadata": {
  "kaggle": {
   "accelerator": "none",
   "dataSources": [],
   "dockerImageVersionId": 30918,
   "isGpuEnabled": false,
   "isInternetEnabled": true,
   "language": "python",
   "sourceType": "notebook"
  },
  "kernelspec": {
   "display_name": "Python 3",
   "language": "python",
   "name": "python3"
  },
  "language_info": {
   "codemirror_mode": {
    "name": "ipython",
    "version": 3
   },
   "file_extension": ".py",
   "mimetype": "text/x-python",
   "name": "python",
   "nbconvert_exporter": "python",
   "pygments_lexer": "ipython3",
   "version": "3.10.12"
  },
  "papermill": {
   "default_parameters": {},
   "duration": 3.56087,
   "end_time": "2025-04-06T23:24:11.339421",
   "environment_variables": {},
   "exception": null,
   "input_path": "__notebook__.ipynb",
   "output_path": "__notebook__.ipynb",
   "parameters": {},
   "start_time": "2025-04-06T23:24:07.778551",
   "version": "2.6.0"
  }
 },
 "nbformat": 4,
 "nbformat_minor": 5
}
