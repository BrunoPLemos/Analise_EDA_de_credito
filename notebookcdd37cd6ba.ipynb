{
 "cells": [
  {
   "cell_type": "markdown",
   "id": "0cf59ec4",
   "metadata": {
    "papermill": {
     "duration": 0.00257,
     "end_time": "2025-04-06T23:45:10.270437",
     "exception": false,
     "start_time": "2025-04-06T23:45:10.267867",
     "status": "completed"
    },
    "tags": []
   },
   "source": [
    "# Análise EDA sobre crédito de clientes de um banco\n"
   ]
  },
  {
   "cell_type": "markdown",
   "id": "dd80ff99",
   "metadata": {
    "papermill": {
     "duration": 0.001821,
     "end_time": "2025-04-06T23:45:10.274513",
     "exception": false,
     "start_time": "2025-04-06T23:45:10.272692",
     "status": "completed"
    },
    "tags": []
   },
   "source": [
    "## Exploração e análise de dados de crédito com SQL"
   ]
  },
  {
   "cell_type": "markdown",
   "id": "d5a729f0",
   "metadata": {
    "papermill": {
     "duration": 0.001773,
     "end_time": "2025-04-06T23:45:10.278227",
     "exception": false,
     "start_time": "2025-04-06T23:45:10.276454",
     "status": "completed"
    },
    "tags": []
   },
   "source": [
    "Conhecendo os dados disponibilizados para análise\n",
    "\n",
    "Os dados dos clientes desse banco foram diponibilizados em uma tabela contendo as seguintes colunas:\n",
    "\n",
    "- idade = idade do cliente\n",
    "- sexo = sexo do cliente (F ou M)\n",
    "- dependentes = número de dependentes do cliente\n",
    "- escolaridade = nível de escolaridade do clientes\n",
    "- salario_anual = faixa salarial do cliente\n",
    "- tipo_cartao = tipo de cartao do cliente\n",
    "- qtd_produtos = quantidade de produtos comprados nos últimos 12 meses\n",
    "- iteracoes_12m = quantidade de iterações/transacoes nos ultimos 12 meses\n",
    "- meses_inativo_12m = quantidade de meses que o cliente ficou inativo\n",
    "- limite_credito = limite de credito do cliente\n",
    "- valor_transacoes_12m = valor das transações dos ultimos 12 meses\n",
    "- qtd_transacoes_12m = quantidade de transacoes dos ultimos 12 meses\n",
    "\n",
    "Essa análise foi feita utilizando as ferramentas AWS Athenas e o Buckets S3."
   ]
  },
  {
   "cell_type": "markdown",
   "id": "13a26f29",
   "metadata": {
    "papermill": {
     "duration": 0.001838,
     "end_time": "2025-04-06T23:45:10.281960",
     "exception": false,
     "start_time": "2025-04-06T23:45:10.280122",
     "status": "completed"
    },
    "tags": []
   },
   "source": [
    "## Exploração dos dados"
   ]
  },
  {
   "cell_type": "markdown",
   "id": "4deb6a7c",
   "metadata": {
    "execution": {
     "iopub.execute_input": "2025-04-06T19:49:03.201703Z",
     "iopub.status.busy": "2025-04-06T19:49:03.201308Z",
     "iopub.status.idle": "2025-04-06T19:49:03.209794Z",
     "shell.execute_reply": "2025-04-06T19:49:03.208086Z",
     "shell.execute_reply.started": "2025-04-06T19:49:03.201668Z"
    },
    "papermill": {
     "duration": 0.001743,
     "end_time": "2025-04-06T23:45:10.285583",
     "exception": false,
     "start_time": "2025-04-06T23:45:10.283840",
     "status": "completed"
    },
    "tags": []
   },
   "source": [
    "Começamos a nossa exploração entendendo como a tabela está disposta\n",
    "> select * from credito limit 10;\n",
    "\n",
    "![](https://private-user-images.githubusercontent.com/162516815/430747877-aa49bbdb-b24f-4912-8608-3d5ef00b4a76.png?jwt=eyJhbGciOiJIUzI1NiIsInR5cCI6IkpXVCJ9.eyJpc3MiOiJnaXRodWIuY29tIiwiYXVkIjoicmF3LmdpdGh1YnVzZXJjb250ZW50LmNvbSIsImtleSI6ImtleTUiLCJleHAiOjE3NDM5ODI2MzgsIm5iZiI6MTc0Mzk4MjMzOCwicGF0aCI6Ii8xNjI1MTY4MTUvNDMwNzQ3ODc3LWFhNDliYmRiLWIyNGYtNDkxMi04NjA4LTNkNWVmMDBiNGE3Ni5wbmc_WC1BbXotQWxnb3JpdGhtPUFXUzQtSE1BQy1TSEEyNTYmWC1BbXotQ3JlZGVudGlhbD1BS0lBVkNPRFlMU0E1M1BRSzRaQSUyRjIwMjUwNDA2JTJGdXMtZWFzdC0xJTJGczMlMkZhd3M0X3JlcXVlc3QmWC1BbXotRGF0ZT0yMDI1MDQwNlQyMzMyMThaJlgtQW16LUV4cGlyZXM9MzAwJlgtQW16LVNpZ25hdHVyZT0zNjgxMDI0Yjc0ODI1YTU3NGRhNmY4OTgwOWUwMTU2ZmQ0ZDQzZDNjNDk3ZjBiYTY1YmYxMmQ2OGUwYWEyNmI3JlgtQW16LVNpZ25lZEhlYWRlcnM9aG9zdCJ9.xry2pj6NeN800ntG1M_u1BRXDTVmAxzPYTprbQeJhkA)"
   ]
  },
  {
   "cell_type": "markdown",
   "id": "4a70e470",
   "metadata": {
    "papermill": {
     "duration": 0.001759,
     "end_time": "2025-04-06T23:45:10.289241",
     "exception": false,
     "start_time": "2025-04-06T23:45:10.287482",
     "status": "completed"
    },
    "tags": []
   },
   "source": [
    "Conferimos o número total de linhas contendo informações na tabela\n",
    "> select count(*) as num_total_de_linhas from credito\n",
    "\n",
    "![](https://private-user-images.githubusercontent.com/162516815/430747914-84409c3a-192e-4374-b9b2-dfc556ac9d3c.png?jwt=eyJhbGciOiJIUzI1NiIsInR5cCI6IkpXVCJ9.eyJpc3MiOiJnaXRodWIuY29tIiwiYXVkIjoicmF3LmdpdGh1YnVzZXJjb250ZW50LmNvbSIsImtleSI6ImtleTUiLCJleHAiOjE3NDM5ODI2MzgsIm5iZiI6MTc0Mzk4MjMzOCwicGF0aCI6Ii8xNjI1MTY4MTUvNDMwNzQ3OTE0LTg0NDA5YzNhLTE5MmUtNDM3NC1iOWIyLWRmYzU1NmFjOWQzYy5wbmc_WC1BbXotQWxnb3JpdGhtPUFXUzQtSE1BQy1TSEEyNTYmWC1BbXotQ3JlZGVudGlhbD1BS0lBVkNPRFlMU0E1M1BRSzRaQSUyRjIwMjUwNDA2JTJGdXMtZWFzdC0xJTJGczMlMkZhd3M0X3JlcXVlc3QmWC1BbXotRGF0ZT0yMDI1MDQwNlQyMzMyMThaJlgtQW16LUV4cGlyZXM9MzAwJlgtQW16LVNpZ25hdHVyZT04NzEwNTU1ZDgwNjkzNWEzMTEzYTkyOGMyN2I1OTE0ZThiMTEzMjE2YzZhZGVmNzFkYWM4YTk4MjEzM2EzMjk2JlgtQW16LVNpZ25lZEhlYWRlcnM9aG9zdCJ9.QsmIsL1VZae2RQgEN1oXyuGqGX_wBda35g4c3uFcpdo)"
   ]
  },
  {
   "cell_type": "markdown",
   "id": "3101efb8",
   "metadata": {
    "papermill": {
     "duration": 0.00177,
     "end_time": "2025-04-06T23:45:10.292951",
     "exception": false,
     "start_time": "2025-04-06T23:45:10.291181",
     "status": "completed"
    },
    "tags": []
   },
   "source": [
    "O próximo passo foi conferir o tipo de informação que cada coluna abriga\n",
    "> DESCRIBE credito\n",
    "\n",
    "![](https://private-user-images.githubusercontent.com/162516815/430747874-556e56a1-1576-4262-bb0e-ca6fca842461.png?jwt=eyJhbGciOiJIUzI1NiIsInR5cCI6IkpXVCJ9.eyJpc3MiOiJnaXRodWIuY29tIiwiYXVkIjoicmF3LmdpdGh1YnVzZXJjb250ZW50LmNvbSIsImtleSI6ImtleTUiLCJleHAiOjE3NDM5ODI2MzgsIm5iZiI6MTc0Mzk4MjMzOCwicGF0aCI6Ii8xNjI1MTY4MTUvNDMwNzQ3ODc0LTU1NmU1NmExLTE1NzYtNDI2Mi1iYjBlLWNhNmZjYTg0MjQ2MS5wbmc_WC1BbXotQWxnb3JpdGhtPUFXUzQtSE1BQy1TSEEyNTYmWC1BbXotQ3JlZGVudGlhbD1BS0lBVkNPRFlMU0E1M1BRSzRaQSUyRjIwMjUwNDA2JTJGdXMtZWFzdC0xJTJGczMlMkZhd3M0X3JlcXVlc3QmWC1BbXotRGF0ZT0yMDI1MDQwNlQyMzMyMThaJlgtQW16LUV4cGlyZXM9MzAwJlgtQW16LVNpZ25hdHVyZT02YTMzZmYwZjRkNDI5MmE2NDgxYjU2YzkzZWIyNGRkNTY0MGRkMmFlZTcxMDc1YzllNjVlYzA0ZDI4ODhjZjlmJlgtQW16LVNpZ25lZEhlYWRlcnM9aG9zdCJ9.JGcHaLNBuRHJqQjp_UIUrzy0tVGXeL9k7s_2YiOpYcE)\n",
    "\n"
   ]
  },
  {
   "cell_type": "markdown",
   "id": "ce189a9c",
   "metadata": {
    "papermill": {
     "duration": 0.001765,
     "end_time": "2025-04-06T23:45:10.296614",
     "exception": false,
     "start_time": "2025-04-06T23:45:10.294849",
     "status": "completed"
    },
    "tags": []
   },
   "source": [
    "Com essa primeira análise concluida, podemos começar a analisar as caracteristicas dos clientes desse banco\n",
    "\n",
    "Qual a relação percentual entre homens e mulheres?\n",
    "> select count(*) as num_de_clientes, sexo from credito group by sexo\n",
    "\n",
    "![](https://private-user-images.githubusercontent.com/162516815/430747994-785929bb-4155-4409-b470-c6a47421c284.png?jwt=eyJhbGciOiJIUzI1NiIsInR5cCI6IkpXVCJ9.eyJpc3MiOiJnaXRodWIuY29tIiwiYXVkIjoicmF3LmdpdGh1YnVzZXJjb250ZW50LmNvbSIsImtleSI6ImtleTUiLCJleHAiOjE3NDM5ODI2MzgsIm5iZiI6MTc0Mzk4MjMzOCwicGF0aCI6Ii8xNjI1MTY4MTUvNDMwNzQ3OTk0LTc4NTkyOWJiLTQxNTUtNDQwOS1iNDcwLWM2YTQ3NDIxYzI4NC5wbmc_WC1BbXotQWxnb3JpdGhtPUFXUzQtSE1BQy1TSEEyNTYmWC1BbXotQ3JlZGVudGlhbD1BS0lBVkNPRFlMU0E1M1BRSzRaQSUyRjIwMjUwNDA2JTJGdXMtZWFzdC0xJTJGczMlMkZhd3M0X3JlcXVlc3QmWC1BbXotRGF0ZT0yMDI1MDQwNlQyMzMyMThaJlgtQW16LUV4cGlyZXM9MzAwJlgtQW16LVNpZ25hdHVyZT03NGRiZmRmNDE4NDllODk4MmJiYmRiMWIxZThlMzY5OWIxN2FkNTljNmE3NTEwMDUyZDhjMWZhMjFkZmI0ODNlJlgtQW16LVNpZ25lZEhlYWRlcnM9aG9zdCJ9.zmThOyQmEBhNVrSUQwxjcO5cceUtryOk4QViqHntx80)\n",
    "\n",
    "![](https://private-user-images.githubusercontent.com/162516815/430747999-8f3051a3-0bdf-425c-b69b-579e5ab7b67b.png?jwt=eyJhbGciOiJIUzI1NiIsInR5cCI6IkpXVCJ9.eyJpc3MiOiJnaXRodWIuY29tIiwiYXVkIjoicmF3LmdpdGh1YnVzZXJjb250ZW50LmNvbSIsImtleSI6ImtleTUiLCJleHAiOjE3NDM5ODI2MzgsIm5iZiI6MTc0Mzk4MjMzOCwicGF0aCI6Ii8xNjI1MTY4MTUvNDMwNzQ3OTk5LThmMzA1MWEzLTBiZGYtNDI1Yy1iNjliLTU3OWU1YWI3YjY3Yi5wbmc_WC1BbXotQWxnb3JpdGhtPUFXUzQtSE1BQy1TSEEyNTYmWC1BbXotQ3JlZGVudGlhbD1BS0lBVkNPRFlMU0E1M1BRSzRaQSUyRjIwMjUwNDA2JTJGdXMtZWFzdC0xJTJGczMlMkZhd3M0X3JlcXVlc3QmWC1BbXotRGF0ZT0yMDI1MDQwNlQyMzMyMThaJlgtQW16LUV4cGlyZXM9MzAwJlgtQW16LVNpZ25hdHVyZT03YjQ2MTRlNTcyYzE5YWI5NzgzMTg0MmI0OWM1NWIzNTBkYmMzOTY1YWZmMGQzNGI5MGQwYmM0NjI5YTdiZjcxJlgtQW16LVNpZ25lZEhlYWRlcnM9aG9zdCJ9.eW3JopEw82MJlaH6uYYSeRK3JUgSyrFmDiONekwqfW4)"
   ]
  },
  {
   "cell_type": "markdown",
   "id": "064426ca",
   "metadata": {
    "papermill": {
     "duration": 0.001844,
     "end_time": "2025-04-06T23:45:10.300386",
     "exception": false,
     "start_time": "2025-04-06T23:45:10.298542",
     "status": "completed"
    },
    "tags": []
   },
   "source": [
    "Qual o nível escolar dos clientes?\n",
    "> SELECT DISTINCT count (*) as qntd, escolaridade FROM credito group by escolaridade\n",
    "\n",
    "![](https://private-user-images.githubusercontent.com/162516815/430748444-a3083cf9-11a2-4527-9587-95c0e824689c.png?jwt=eyJhbGciOiJIUzI1NiIsInR5cCI6IkpXVCJ9.eyJpc3MiOiJnaXRodWIuY29tIiwiYXVkIjoicmF3LmdpdGh1YnVzZXJjb250ZW50LmNvbSIsImtleSI6ImtleTUiLCJleHAiOjE3NDM5ODI4OTAsIm5iZiI6MTc0Mzk4MjU5MCwicGF0aCI6Ii8xNjI1MTY4MTUvNDMwNzQ4NDQ0LWEzMDgzY2Y5LTExYTItNDUyNy05NTg3LTk1YzBlODI0Njg5Yy5wbmc_WC1BbXotQWxnb3JpdGhtPUFXUzQtSE1BQy1TSEEyNTYmWC1BbXotQ3JlZGVudGlhbD1BS0lBVkNPRFlMU0E1M1BRSzRaQSUyRjIwMjUwNDA2JTJGdXMtZWFzdC0xJTJGczMlMkZhd3M0X3JlcXVlc3QmWC1BbXotRGF0ZT0yMDI1MDQwNlQyMzM2MzBaJlgtQW16LUV4cGlyZXM9MzAwJlgtQW16LVNpZ25hdHVyZT0wNjRlMmQ1MTAzMjg5ZDY1NGQ2MGVlYzUxMTc4NjYyODY2ZmQzMzFiNzJmZTdkMjcwZDk1YmViYTQ0NzI4YjdmJlgtQW16LVNpZ25lZEhlYWRlcnM9aG9zdCJ9.hSCV4xuvCCqQ5GlkF0S0fvna_QjARWvX1Gha64e2Fgk)\n",
    "\n",
    "![](https://private-user-images.githubusercontent.com/162516815/430748050-8ccc0705-862b-48ae-9656-a27197b638db.png?jwt=eyJhbGciOiJIUzI1NiIsInR5cCI6IkpXVCJ9.eyJpc3MiOiJnaXRodWIuY29tIiwiYXVkIjoicmF3LmdpdGh1YnVzZXJjb250ZW50LmNvbSIsImtleSI6ImtleTUiLCJleHAiOjE3NDM5ODI2MzgsIm5iZiI6MTc0Mzk4MjMzOCwicGF0aCI6Ii8xNjI1MTY4MTUvNDMwNzQ4MDUwLThjY2MwNzA1LTg2MmItNDhhZS05NjU2LWEyNzE5N2I2MzhkYi5wbmc_WC1BbXotQWxnb3JpdGhtPUFXUzQtSE1BQy1TSEEyNTYmWC1BbXotQ3JlZGVudGlhbD1BS0lBVkNPRFlMU0E1M1BRSzRaQSUyRjIwMjUwNDA2JTJGdXMtZWFzdC0xJTJGczMlMkZhd3M0X3JlcXVlc3QmWC1BbXotRGF0ZT0yMDI1MDQwNlQyMzMyMThaJlgtQW16LUV4cGlyZXM9MzAwJlgtQW16LVNpZ25hdHVyZT04YTE0NDBjOWViOGQ2ZDU2OGYyYzNiMDQ3NTNjNDBmMWM0MGRlYWFhN2UxMGNlYTdhZjZkYTJkZDEzZTFkN2Y2JlgtQW16LVNpZ25lZEhlYWRlcnM9aG9zdCJ9.qLjlsbXkKSQunAn48Yq5laCJjNGfvktz2qgViHgHUhg)"
   ]
  },
  {
   "cell_type": "markdown",
   "id": "279a0e48",
   "metadata": {
    "papermill": {
     "duration": 0.001793,
     "end_time": "2025-04-06T23:45:10.304121",
     "exception": false,
     "start_time": "2025-04-06T23:45:10.302328",
     "status": "completed"
    },
    "tags": []
   },
   "source": [
    "Qual o estado civil dos clientes?\n",
    "> SELECT DISTINCT count (*) as qntd, estado_civil FROM credito group by estado_civil\n",
    "\n",
    "![](https://private-user-images.githubusercontent.com/162516815/430748067-85684732-fa7d-4d2b-b6ee-b0e444b83d33.png?jwt=eyJhbGciOiJIUzI1NiIsInR5cCI6IkpXVCJ9.eyJpc3MiOiJnaXRodWIuY29tIiwiYXVkIjoicmF3LmdpdGh1YnVzZXJjb250ZW50LmNvbSIsImtleSI6ImtleTUiLCJleHAiOjE3NDM5ODI4OTAsIm5iZiI6MTc0Mzk4MjU5MCwicGF0aCI6Ii8xNjI1MTY4MTUvNDMwNzQ4MDY3LTg1Njg0NzMyLWZhN2QtNGQyYi1iNmVlLWIwZTQ0NGI4M2QzMy5wbmc_WC1BbXotQWxnb3JpdGhtPUFXUzQtSE1BQy1TSEEyNTYmWC1BbXotQ3JlZGVudGlhbD1BS0lBVkNPRFlMU0E1M1BRSzRaQSUyRjIwMjUwNDA2JTJGdXMtZWFzdC0xJTJGczMlMkZhd3M0X3JlcXVlc3QmWC1BbXotRGF0ZT0yMDI1MDQwNlQyMzM2MzBaJlgtQW16LUV4cGlyZXM9MzAwJlgtQW16LVNpZ25hdHVyZT0wNGMxNmNlZmRlOTRmYjQyOTY2MGM1YTBiMmJhMDFlMWFmNmVjYmQwOGYwZjgyYzJlODZhN2IwYTRlMDg0YTY0JlgtQW16LVNpZ25lZEhlYWRlcnM9aG9zdCJ9.hHaWMchVSzBxtpmHu4TCBvdeG2_Km_alsfwGpWRZmyg)\n",
    "\n",
    "![](https://private-user-images.githubusercontent.com/162516815/430748062-3932ea0f-7b1c-412f-bfaa-6bc2701a1ea5.png?jwt=eyJhbGciOiJIUzI1NiIsInR5cCI6IkpXVCJ9.eyJpc3MiOiJnaXRodWIuY29tIiwiYXVkIjoicmF3LmdpdGh1YnVzZXJjb250ZW50LmNvbSIsImtleSI6ImtleTUiLCJleHAiOjE3NDM5ODI4OTAsIm5iZiI6MTc0Mzk4MjU5MCwicGF0aCI6Ii8xNjI1MTY4MTUvNDMwNzQ4MDYyLTM5MzJlYTBmLTdiMWMtNDEyZi1iZmFhLTZiYzI3MDFhMWVhNS5wbmc_WC1BbXotQWxnb3JpdGhtPUFXUzQtSE1BQy1TSEEyNTYmWC1BbXotQ3JlZGVudGlhbD1BS0lBVkNPRFlMU0E1M1BRSzRaQSUyRjIwMjUwNDA2JTJGdXMtZWFzdC0xJTJGczMlMkZhd3M0X3JlcXVlc3QmWC1BbXotRGF0ZT0yMDI1MDQwNlQyMzM2MzBaJlgtQW16LUV4cGlyZXM9MzAwJlgtQW16LVNpZ25hdHVyZT02NTliZTBiMjJhOTE0MzhjMzRjM2JiZWQwMGI2MzZmNmVkMTM0NzQ3OWI4ZTc2ZGM1NTBlMmUwMTA2MThjZWUxJlgtQW16LVNpZ25lZEhlYWRlcnM9aG9zdCJ9.__eO3rZBR-zk5iLmL7RD5cMlGIzDmX_cBRVtjsAtjQw)"
   ]
  },
  {
   "cell_type": "markdown",
   "id": "388ee911",
   "metadata": {
    "papermill": {
     "duration": 0.001786,
     "end_time": "2025-04-06T23:45:10.307822",
     "exception": false,
     "start_time": "2025-04-06T23:45:10.306036",
     "status": "completed"
    },
    "tags": []
   },
   "source": [
    "Qual a faixa de salário anual dos clientes?\n",
    "> SELECT DISTINCT count (*) as qntd, salario_anual FROM credito group by salario_anual\n",
    "\n",
    "![](https://private-user-images.githubusercontent.com/162516815/430748097-497b913d-2070-4083-b493-494e13e6ae76.png?jwt=eyJhbGciOiJIUzI1NiIsInR5cCI6IkpXVCJ9.eyJpc3MiOiJnaXRodWIuY29tIiwiYXVkIjoicmF3LmdpdGh1YnVzZXJjb250ZW50LmNvbSIsImtleSI6ImtleTUiLCJleHAiOjE3NDM5ODI4OTAsIm5iZiI6MTc0Mzk4MjU5MCwicGF0aCI6Ii8xNjI1MTY4MTUvNDMwNzQ4MDk3LTQ5N2I5MTNkLTIwNzAtNDA4My1iNDkzLTQ5NGUxM2U2YWU3Ni5wbmc_WC1BbXotQWxnb3JpdGhtPUFXUzQtSE1BQy1TSEEyNTYmWC1BbXotQ3JlZGVudGlhbD1BS0lBVkNPRFlMU0E1M1BRSzRaQSUyRjIwMjUwNDA2JTJGdXMtZWFzdC0xJTJGczMlMkZhd3M0X3JlcXVlc3QmWC1BbXotRGF0ZT0yMDI1MDQwNlQyMzM2MzBaJlgtQW16LUV4cGlyZXM9MzAwJlgtQW16LVNpZ25hdHVyZT1kYzdhMzhmYmM3OGMwMmZlMGY5NjJjNmU2NThjZjA2ODM2NDIxZGMwZTBiMWExODk0MzRhYTcxZmI3NmIyYzkzJlgtQW16LVNpZ25lZEhlYWRlcnM9aG9zdCJ9.SLBMg12A2UabS4JBMMhp2LvqNByiXOt68ZG2Faq6QRc)\n",
    "\n",
    "![](https://private-user-images.githubusercontent.com/162516815/430748100-3f069303-084a-43f1-a438-3757cc3b0b54.png?jwt=eyJhbGciOiJIUzI1NiIsInR5cCI6IkpXVCJ9.eyJpc3MiOiJnaXRodWIuY29tIiwiYXVkIjoicmF3LmdpdGh1YnVzZXJjb250ZW50LmNvbSIsImtleSI6ImtleTUiLCJleHAiOjE3NDM5ODI4OTAsIm5iZiI6MTc0Mzk4MjU5MCwicGF0aCI6Ii8xNjI1MTY4MTUvNDMwNzQ4MTAwLTNmMDY5MzAzLTA4NGEtNDNmMS1hNDM4LTM3NTdjYzNiMGI1NC5wbmc_WC1BbXotQWxnb3JpdGhtPUFXUzQtSE1BQy1TSEEyNTYmWC1BbXotQ3JlZGVudGlhbD1BS0lBVkNPRFlMU0E1M1BRSzRaQSUyRjIwMjUwNDA2JTJGdXMtZWFzdC0xJTJGczMlMkZhd3M0X3JlcXVlc3QmWC1BbXotRGF0ZT0yMDI1MDQwNlQyMzM2MzBaJlgtQW16LUV4cGlyZXM9MzAwJlgtQW16LVNpZ25hdHVyZT03OWZkMzhjZmI4NjU2YWQzOTBiMzY2NGQyNmRlMmE5OTQ0OTBhZmU1ZjMyN2Y2NjgzMjFhMDQwOTg2NTcyZGFmJlgtQW16LVNpZ25lZEhlYWRlcnM9aG9zdCJ9.c_7NkcvKuw6Ckt2P6GEIgz7kXJKyFz0-MjEnLhn0ZMA)"
   ]
  },
  {
   "cell_type": "markdown",
   "id": "fd8ec53e",
   "metadata": {
    "papermill": {
     "duration": 0.00176,
     "end_time": "2025-04-06T23:45:10.311557",
     "exception": false,
     "start_time": "2025-04-06T23:45:10.309797",
     "status": "completed"
    },
    "tags": []
   },
   "source": [
    "Qual os tipos de cartão os clientes utilizam?\n",
    "> SELECT DISTINCT count (*) as qntd, tipo_cartao FROM credito group by tipo_cartao\n",
    "\n",
    "![](https://private-user-images.githubusercontent.com/162516815/430748201-8abaeb15-8b6b-441c-a0c6-75f999647ba2.png?jwt=eyJhbGciOiJIUzI1NiIsInR5cCI6IkpXVCJ9.eyJpc3MiOiJnaXRodWIuY29tIiwiYXVkIjoicmF3LmdpdGh1YnVzZXJjb250ZW50LmNvbSIsImtleSI6ImtleTUiLCJleHAiOjE3NDM5ODI4OTAsIm5iZiI6MTc0Mzk4MjU5MCwicGF0aCI6Ii8xNjI1MTY4MTUvNDMwNzQ4MjAxLThhYmFlYjE1LThiNmItNDQxYy1hMGM2LTc1Zjk5OTY0N2JhMi5wbmc_WC1BbXotQWxnb3JpdGhtPUFXUzQtSE1BQy1TSEEyNTYmWC1BbXotQ3JlZGVudGlhbD1BS0lBVkNPRFlMU0E1M1BRSzRaQSUyRjIwMjUwNDA2JTJGdXMtZWFzdC0xJTJGczMlMkZhd3M0X3JlcXVlc3QmWC1BbXotRGF0ZT0yMDI1MDQwNlQyMzM2MzBaJlgtQW16LUV4cGlyZXM9MzAwJlgtQW16LVNpZ25hdHVyZT03YTQwM2E4OTA1M2U2ZGYyYmM1MmViY2Q4NTk3ZWVkNjhhNTZlODdkM2E4ZmU3NzUyMGI4NWUyODJhMDllYjcyJlgtQW16LVNpZ25lZEhlYWRlcnM9aG9zdCJ9.kpbOWcY9JrNG2KEL9WgbitTSf1XCPsS2Tx17wZKhIS4)\n",
    "\n",
    "![](https://private-user-images.githubusercontent.com/162516815/430748121-4e77cc86-6b23-4358-acc6-40a6f47153bf.png?jwt=eyJhbGciOiJIUzI1NiIsInR5cCI6IkpXVCJ9.eyJpc3MiOiJnaXRodWIuY29tIiwiYXVkIjoicmF3LmdpdGh1YnVzZXJjb250ZW50LmNvbSIsImtleSI6ImtleTUiLCJleHAiOjE3NDM5ODI4OTAsIm5iZiI6MTc0Mzk4MjU5MCwicGF0aCI6Ii8xNjI1MTY4MTUvNDMwNzQ4MTIxLTRlNzdjYzg2LTZiMjMtNDM1OC1hY2M2LTQwYTZmNDcxNTNiZi5wbmc_WC1BbXotQWxnb3JpdGhtPUFXUzQtSE1BQy1TSEEyNTYmWC1BbXotQ3JlZGVudGlhbD1BS0lBVkNPRFlMU0E1M1BRSzRaQSUyRjIwMjUwNDA2JTJGdXMtZWFzdC0xJTJGczMlMkZhd3M0X3JlcXVlc3QmWC1BbXotRGF0ZT0yMDI1MDQwNlQyMzM2MzBaJlgtQW16LUV4cGlyZXM9MzAwJlgtQW16LVNpZ25hdHVyZT02MjhlZWVjZmM5NGNhNjU1MjIxNjBkYTY5OTY1MzUwYTc3NzE3NGNiMTFmZGRiNTg5NzQ2MWUxNjAzZTA5OTk2JlgtQW16LVNpZ25lZEhlYWRlcnM9aG9zdCJ9.OS116k01SYnZRKIYJItbAQ9p7_K8GdWi0eEK7g8k0rY)"
   ]
  },
  {
   "cell_type": "markdown",
   "id": "cb81ac8d",
   "metadata": {
    "papermill": {
     "duration": 0.001774,
     "end_time": "2025-04-06T23:45:10.315242",
     "exception": false,
     "start_time": "2025-04-06T23:45:10.313468",
     "status": "completed"
    },
    "tags": []
   },
   "source": [
    "Qual a idade dos clientes?\n",
    "> SELECT avg(idade) as Media_idade, max(idade) as Max_idade,min(idade) as Min_idade,sexo FROM credito group by sexo\n",
    "\n",
    "![](https://private-user-images.githubusercontent.com/162516815/430748218-66b210c5-9d83-495a-b0ac-96e3e22f2c3f.png?jwt=eyJhbGciOiJIUzI1NiIsInR5cCI6IkpXVCJ9.eyJpc3MiOiJnaXRodWIuY29tIiwiYXVkIjoicmF3LmdpdGh1YnVzZXJjb250ZW50LmNvbSIsImtleSI6ImtleTUiLCJleHAiOjE3NDM5ODI4OTAsIm5iZiI6MTc0Mzk4MjU5MCwicGF0aCI6Ii8xNjI1MTY4MTUvNDMwNzQ4MjE4LTY2YjIxMGM1LTlkODMtNDk1YS1iMGFjLTk2ZTNlMjJmMmMzZi5wbmc_WC1BbXotQWxnb3JpdGhtPUFXUzQtSE1BQy1TSEEyNTYmWC1BbXotQ3JlZGVudGlhbD1BS0lBVkNPRFlMU0E1M1BRSzRaQSUyRjIwMjUwNDA2JTJGdXMtZWFzdC0xJTJGczMlMkZhd3M0X3JlcXVlc3QmWC1BbXotRGF0ZT0yMDI1MDQwNlQyMzM2MzBaJlgtQW16LUV4cGlyZXM9MzAwJlgtQW16LVNpZ25hdHVyZT1iZDZjNjI2MzA0NDBkMjljMjUzNDI5ODE3M2ExYzIwYzJmMDQyOGIzYWViMDBjMmJkZmM1YWQxNDMwMzgzNThmJlgtQW16LVNpZ25lZEhlYWRlcnM9aG9zdCJ9.IQL_1cTpVcxM5xOzy_BTbDrooYn-VvDaNU3mFHuN6QU)"
   ]
  },
  {
   "cell_type": "markdown",
   "id": "f836005b",
   "metadata": {
    "papermill": {
     "duration": 0.001786,
     "end_time": "2025-04-06T23:45:10.318938",
     "exception": false,
     "start_time": "2025-04-06T23:45:10.317152",
     "status": "completed"
    },
    "tags": []
   },
   "source": [
    "Qual a relação entre quantidade de produtos contratados com o salário anual?\n",
    "> SELECT distinct (salario_anual) as salario_anual, avg(limite_credito) as media_limite_credito, avg(qtd_produtos)as media_qntd_produtos FROM credito group by salario_anual\n",
    "\n",
    "![](https://private-user-images.githubusercontent.com/162516815/430748225-6352a022-d74b-4ab2-8d7f-c570e9cd8cb5.png?jwt=eyJhbGciOiJIUzI1NiIsInR5cCI6IkpXVCJ9.eyJpc3MiOiJnaXRodWIuY29tIiwiYXVkIjoicmF3LmdpdGh1YnVzZXJjb250ZW50LmNvbSIsImtleSI6ImtleTUiLCJleHAiOjE3NDM5ODMyMTMsIm5iZiI6MTc0Mzk4MjkxMywicGF0aCI6Ii8xNjI1MTY4MTUvNDMwNzQ4MjI1LTYzNTJhMDIyLWQ3NGItNGFiMi04ZDdmLWM1NzBlOWNkOGNiNS5wbmc_WC1BbXotQWxnb3JpdGhtPUFXUzQtSE1BQy1TSEEyNTYmWC1BbXotQ3JlZGVudGlhbD1BS0lBVkNPRFlMU0E1M1BRSzRaQSUyRjIwMjUwNDA2JTJGdXMtZWFzdC0xJTJGczMlMkZhd3M0X3JlcXVlc3QmWC1BbXotRGF0ZT0yMDI1MDQwNlQyMzQxNTNaJlgtQW16LUV4cGlyZXM9MzAwJlgtQW16LVNpZ25hdHVyZT0yZTMzMDE1OWFlYzM5NzgzOGE5ZWFkMGRjOWVhNjQxOTcyYTE4ZjBkYWM0NTExNzIzZTZhMmM4YWFjZmJkYmU3JlgtQW16LVNpZ25lZEhlYWRlcnM9aG9zdCJ9.cljzh__kZzYGJGYI4KbqyJe0zG4gGENoTR3PSnKY3YM)"
   ]
  },
  {
   "cell_type": "markdown",
   "id": "e7d2a1a9",
   "metadata": {
    "papermill": {
     "duration": 0.001777,
     "end_time": "2025-04-06T23:45:10.322713",
     "exception": false,
     "start_time": "2025-04-06T23:45:10.320936",
     "status": "completed"
    },
    "tags": []
   },
   "source": [
    "## Conclusão\n",
    "\n",
    "Analisando os dados acima apresentados, podemos perceber algumas caracteristicas importantes dos clientes do banco\n",
    " - A maior quantidade de correntistas desse banco são do sexo masculino\n",
    " - A escolaridade não se torna um elemento relevante para análise de crédito\n",
    " - A grande maioria dos correntistas são casados\n",
    " - A idade dos correntistas giram em torno dos 26 anos até 73 anos\n",
    " - A média de produtos contratados não tem haver com o salário anual do correntista\n",
    " - O limite de crédito está diretamente relacionado ao valor do salário anual\n",
    "\n",
    "Existem alguns pontos que merecem ser melhores estudados para oferecer serviços e oportunidades melhores para os correntistas, como exemplo, os serviços contratados entre outros"
   ]
  }
 ],
 "metadata": {
  "kaggle": {
   "accelerator": "none",
   "dataSources": [],
   "dockerImageVersionId": 30918,
   "isGpuEnabled": false,
   "isInternetEnabled": true,
   "language": "python",
   "sourceType": "notebook"
  },
  "kernelspec": {
   "display_name": "Python 3",
   "language": "python",
   "name": "python3"
  },
  "language_info": {
   "codemirror_mode": {
    "name": "ipython",
    "version": 3
   },
   "file_extension": ".py",
   "mimetype": "text/x-python",
   "name": "python",
   "nbconvert_exporter": "python",
   "pygments_lexer": "ipython3",
   "version": "3.10.12"
  },
  "papermill": {
   "default_parameters": {},
   "duration": 2.291919,
   "end_time": "2025-04-06T23:45:10.641291",
   "environment_variables": {},
   "exception": null,
   "input_path": "__notebook__.ipynb",
   "output_path": "__notebook__.ipynb",
   "parameters": {},
   "start_time": "2025-04-06T23:45:08.349372",
   "version": "2.6.0"
  }
 },
 "nbformat": 4,
 "nbformat_minor": 5
}
